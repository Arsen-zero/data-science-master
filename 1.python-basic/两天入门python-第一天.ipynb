{
 "cells": [
  {
   "cell_type": "markdown",
   "metadata": {},
   "source": [
    "# 一、Day1"
   ]
  },
  {
   "cell_type": "markdown",
   "metadata": {},
   "source": [
    "## 0.print"
   ]
  },
  {
   "cell_type": "code",
   "execution_count": 10,
   "metadata": {
    "pycharm": {
     "is_executing": false
    }
   },
   "outputs": [
    {
     "name": "stdout",
     "text": [
      "Hello \n"
     ],
     "output_type": "stream"
    }
   ],
   "source": [
    "name = input(\"What is your name?\")\n",
    "print(\"Hello \"+name )\n",
    "# 或者print(\"Hello\",name ),print中逗号分隔直接将字符串用空格分隔，若用+号连接，并且想留空格，则在前一字符串留空格即可"
   ]
  },
  {
   "cell_type": "markdown",
   "metadata": {},
   "source": [
    "## 1.输入输出"
   ]
  },
  {
   "cell_type": "code",
   "execution_count": 11,
   "metadata": {
    "pycharm": {
     "is_executing": false
    }
   },
   "outputs": [
    {
     "name": "stdout",
     "text": [
      " \n"
     ],
     "output_type": "stream"
    }
   ],
   "source": [
    "username=input(\"username:\")\n",
    "password=input(\"password:\")\n",
    "print(username,password)"
   ]
  },
  {
   "cell_type": "markdown",
   "metadata": {},
   "source": [
    "## 2.格式输入输出"
   ]
  },
  {
   "cell_type": "code",
   "execution_count": 12,
   "metadata": {
    "pycharm": {
     "is_executing": false
    }
   },
   "outputs": [
    {
     "name": "stdout",
     "text": [
      "---------info of ---------\nName:\nAge:\nJob:\n"
     ],
     "output_type": "stream"
    }
   ],
   "source": [
    "# 第一种方法\n",
    "name=input(\"Name:\")\n",
    "age=input(\"age:\")\n",
    "job=input(\"job:\")\n",
    "\n",
    "info='''---------info of ---------''' + '''\n",
    "Name:'''+name+'''\n",
    "Age:'''+age+'''\n",
    "Job:'''+job\n",
    "print(info)"
   ]
  },
  {
   "cell_type": "code",
   "execution_count": 13,
   "metadata": {
    "pycharm": {
     "is_executing": false
    }
   },
   "outputs": [
    {
     "traceback": [
      "\u001b[1;31m---------------------------------------------------------------------------\u001b[0m",
      "\u001b[1;31mValueError\u001b[0m                                Traceback (most recent call last)",
      "\u001b[1;32m<ipython-input-13-8f1df10457bf>\u001b[0m in \u001b[0;36m<module>\u001b[1;34m\u001b[0m\n\u001b[0;32m      2\u001b[0m \u001b[1;33m\u001b[0m\u001b[0m\n\u001b[0;32m      3\u001b[0m \u001b[0mname\u001b[0m\u001b[1;33m=\u001b[0m\u001b[0minput\u001b[0m\u001b[1;33m(\u001b[0m\u001b[1;34m\"Name:\"\u001b[0m\u001b[1;33m)\u001b[0m\u001b[1;33m\u001b[0m\u001b[1;33m\u001b[0m\u001b[0m\n\u001b[1;32m----> 4\u001b[1;33m \u001b[0mage\u001b[0m\u001b[1;33m=\u001b[0m\u001b[0mint\u001b[0m\u001b[1;33m(\u001b[0m\u001b[0minput\u001b[0m\u001b[1;33m(\u001b[0m\u001b[1;34m\"age:\"\u001b[0m\u001b[1;33m)\u001b[0m\u001b[1;33m)\u001b[0m  \u001b[1;31m#如果不用int()就会报错(虽然输入为数字，但是print(type(age))为str型)，因为python如果不强制类型转化，就会默认字符型\u001b[0m\u001b[1;33m\u001b[0m\u001b[1;33m\u001b[0m\u001b[0m\n\u001b[0m\u001b[0;32m      5\u001b[0m \u001b[0mjob\u001b[0m\u001b[1;33m=\u001b[0m\u001b[0minput\u001b[0m\u001b[1;33m(\u001b[0m\u001b[1;34m\"job:\"\u001b[0m\u001b[1;33m)\u001b[0m\u001b[1;33m\u001b[0m\u001b[1;33m\u001b[0m\u001b[0m\n\u001b[0;32m      6\u001b[0m \u001b[1;33m\u001b[0m\u001b[0m\n",
      "\u001b[1;31mValueError\u001b[0m: invalid literal for int() with base 10: ''"
     ],
     "ename": "ValueError",
     "evalue": "invalid literal for int() with base 10: ''",
     "output_type": "error"
    }
   ],
   "source": [
    "# 第二种方法\n",
    "\n",
    "name=input(\"Name:\")\n",
    "age=int(input(\"age:\"))  #如果不用int()就会报错(虽然输入为数字，但是print(type(age))为str型)，因为python如果不强制类型转化，就会默认字符型\n",
    "job=input(\"job:\")\n",
    "\n",
    "info='''---------info of ---------\n",
    "Name:%s\n",
    "Age:%d\n",
    "Job:%s'''%(name,age,job)\n",
    "print(info)"
   ]
  },
  {
   "cell_type": "code",
   "execution_count": null,
   "metadata": {
    "pycharm": {
     "is_executing": false
    }
   },
   "outputs": [],
   "source": [
    "# 第三种方法\n",
    "\n",
    "name=input(\"Name:\")\n",
    "age=int(input(\"age:\"))  #如果不用int()就会报错(虽然输入为数字，但是print(type(age))为str型)，因为python如果不强制类型转化，就会默认字符型\n",
    "job=input(\"job:\")\n",
    "\n",
    "info='''---------info of ---------\n",
    "Name:{_name}\n",
    "Age:{_age}\n",
    "Job:{_job}'''.format(_name=name,_age=age,_job=job)\n",
    "print(info)"
   ]
  },
  {
   "cell_type": "code",
   "execution_count": null,
   "metadata": {
    "pycharm": {
     "is_executing": false
    }
   },
   "outputs": [],
   "source": [
    "# 第四种方法\n",
    "\n",
    "name=input(\"Name:\")\n",
    "age=int(input(\"age:\"))  #如果不用int()就会报错(虽然输入为数字，但是print(type(age))为str型)，因为python如果不强制类型转化，就会默认字符型\n",
    "job=input(\"job:\")\n",
    "\n",
    "info='''---------info of ---------\n",
    "Name:{0}\n",
    "Age:{1}\n",
    "Job:{2}'''.format(name,age,job)\n",
    "print(info)"
   ]
  },
  {
   "cell_type": "markdown",
   "metadata": {},
   "source": [
    "## 3.输入密码不可见"
   ]
  },
  {
   "cell_type": "code",
   "execution_count": null,
   "metadata": {
    "pycharm": {
     "is_executing": false
    }
   },
   "outputs": [],
   "source": [
    "import getpass\n",
    "pwd=getpass.getpass(\"请输入密码:\")\n",
    "print(pwd)"
   ]
  },
  {
   "cell_type": "markdown",
   "metadata": {},
   "source": [
    "## 4.验证，python缩进"
   ]
  },
  {
   "cell_type": "code",
   "execution_count": null,
   "metadata": {
    "pycharm": {
     "is_executing": false
    }
   },
   "outputs": [],
   "source": [
    "_username='Alex Li'\n",
    "_password='abc123'\n",
    "username=input(\"username:\")\n",
    "password=input(\"password:\")\n",
    "if _username==username and _password==password:\n",
    "    print((\"Welcome user {name} login...\").format(name=username))\n",
    "else:\n",
    "    print(\"Invalid username or password!\")"
   ]
  },
  {
   "cell_type": "markdown",
   "metadata": {},
   "source": [
    "## 5.指向---修改字符串"
   ]
  },
  {
   "cell_type": "code",
   "execution_count": null,
   "metadata": {
    "pycharm": {
     "is_executing": false
    }
   },
   "outputs": [],
   "source": [
    "print(\"Hello World\")\n",
    "name = \"Alex Li\"\n",
    "name2=name\n",
    "print(name)\n",
    "print(\"My name is\", name,name2) # Alex Li Alex Li\n",
    "name = \"PaoChe Ge\"\n",
    "# name2=name指的是name2与name一样指向Alex Li的内存地址，name指向改了，但是name2不变\n",
    "print(\"My name is\", name,name2) # PaoChe Ge Alex Li\n",
    "print(\"您好，我来了\")"
   ]
  },
  {
   "cell_type": "markdown",
   "metadata": {},
   "source": [
    "## 6.注释`''' '''`内涵"
   ]
  },
  {
   "cell_type": "code",
   "execution_count": null,
   "metadata": {
    "pycharm": {
     "is_executing": false
    }
   },
   "outputs": [],
   "source": [
    "# 第一种情况就是注释\n",
    "'''print(\"这是一行注释\")'''"
   ]
  },
  {
   "cell_type": "code",
   "execution_count": null,
   "metadata": {
    "pycharm": {
     "is_executing": false
    }
   },
   "outputs": [],
   "source": [
    "#第二种情况就是打印多行字符串\n",
    "str='''这是第一行内容\n",
    "这是第二行内容'''\n",
    "print(str)"
   ]
  },
  {
   "cell_type": "code",
   "execution_count": null,
   "metadata": {
    "pycharm": {
     "is_executing": false
    }
   },
   "outputs": [],
   "source": [
    "# 3.单套双，双套单都可以\n",
    "str1=\"i'am a student\"\n",
    "print(str1)"
   ]
  },
  {
   "cell_type": "markdown",
   "metadata": {},
   "source": [
    "## 7.模块初始sys与os"
   ]
  },
  {
   "cell_type": "code",
   "execution_count": null,
   "metadata": {
    "pycharm": {
     "is_executing": false
    }
   },
   "outputs": [],
   "source": [
    "import sys\n",
    "# 打印环境变量\n",
    "print(sys.path)\n",
    "\n",
    "print(sys.argv)\n",
    "print(sys.argv[2])"
   ]
  },
  {
   "cell_type": "code",
   "execution_count": null,
   "metadata": {
    "pycharm": {
     "is_executing": false
    }
   },
   "outputs": [],
   "source": [
    "# 进度条\n",
    "import time\n",
    "for i in range(50):\n",
    "    sys.stdout.write('#')\n",
    "    sys.stdout.flush()\n",
    "    time.sleep(0.5)"
   ]
  },
  {
   "cell_type": "code",
   "execution_count": null,
   "metadata": {
    "pycharm": {
     "is_executing": false
    }
   },
   "outputs": [],
   "source": [
    "import os\n",
    "cmd_res = os.system(\"dir\") # os.system()执行后直接输出到终端，然后结束，最后cmd_res保存的是os.system()执行后的状态码\n",
    "print(\"--->\",cmd_res) # ---> 0"
   ]
  },
  {
   "cell_type": "code",
   "execution_count": null,
   "metadata": {
    "pycharm": {
     "is_executing": false
    }
   },
   "outputs": [],
   "source": [
    "cmd_res1=os.popen(\"dir\")\n",
    "print(\"--->\",cmd_res1) # 得到的是内存对象值 ---> <os._wrap_close object at 0x00000000029187B8>"
   ]
  },
  {
   "cell_type": "code",
   "execution_count": null,
   "metadata": {
    "pycharm": {
     "is_executing": false
    }
   },
   "outputs": [],
   "source": [
    "cmd_res1=os.popen(\"dir\").read()\n",
    "print(\"--->\",cmd_res1) # 读取数据必须再后面加个read()"
   ]
  },
  {
   "cell_type": "code",
   "execution_count": null,
   "metadata": {
    "pycharm": {
     "is_executing": false
    }
   },
   "outputs": [],
   "source": [
    "os.mkdir(\"new_dir3\") # 创建一个目录\n",
    "os.removedirs(\"new_dir3\") # 删除一个目录"
   ]
  },
  {
   "cell_type": "markdown",
   "metadata": {},
   "source": [
    "## 8.三元运算"
   ]
  },
  {
   "cell_type": "code",
   "execution_count": null,
   "metadata": {
    "pycharm": {
     "is_executing": false
    }
   },
   "outputs": [],
   "source": [
    "# 1.result = 值1 if 条件 else 值2\n",
    "a=1\n",
    "b=2\n",
    "c=3\n",
    "d=a if a>b else c\n",
    "print(d)"
   ]
  },
  {
   "cell_type": "markdown",
   "metadata": {},
   "source": [
    "## 9.python3特性"
   ]
  },
  {
   "cell_type": "raw",
   "metadata": {},
   "source": [
    "python3中最重要的新特性大概是对文本和二进制数据作了更为清晰的区分。文本总是Unicode，由str类型表示,\n",
    "二进制数据则由bytes类型表示。Python3不会以任意隐式的方式混用str和bytes，正是这使得两者区分特别清晰。\n",
    "即：在python2中类型会自动转化，而在python3中则要么报错，要么不转化\n",
    "str与bytes相互转化"
   ]
  },
  {
   "cell_type": "markdown",
   "metadata": {},
   "source": [
    "## 10.bytes与str转化"
   ]
  },
  {
   "cell_type": "code",
   "execution_count": null,
   "metadata": {
    "pycharm": {
     "is_executing": false
    }
   },
   "outputs": [],
   "source": [
    "msg=\"我爱北京天安门\"\n",
    "\n",
    "print(msg)"
   ]
  },
  {
   "cell_type": "code",
   "execution_count": null,
   "metadata": {
    "pycharm": {
     "is_executing": false
    }
   },
   "outputs": [],
   "source": [
    "print(msg.encode(encoding=\"utf-8\")) # str转bytes,编码"
   ]
  },
  {
   "cell_type": "code",
   "execution_count": null,
   "metadata": {
    "pycharm": {
     "is_executing": false
    }
   },
   "outputs": [],
   "source": [
    "print(msg.encode(encoding=\"utf-8\").decode(encoding=\"utf-8\")) # bytes转str,解码"
   ]
  },
  {
   "cell_type": "markdown",
   "metadata": {},
   "source": [
    "## 11.循环"
   ]
  },
  {
   "cell_type": "code",
   "execution_count": null,
   "metadata": {
    "pycharm": {
     "is_executing": false
    }
   },
   "outputs": [],
   "source": [
    "print(\"第一种循环\")\n",
    "count = 0\n",
    "while True:\n",
    "    print(\"count:\",count)\n",
    "    count+=1\n",
    "    if(count==10):\n",
    "        break"
   ]
  },
  {
   "cell_type": "code",
   "execution_count": null,
   "metadata": {
    "pycharm": {
     "is_executing": false
    }
   },
   "outputs": [],
   "source": [
    "print(\"第二种循环\")\n",
    "count = 0\n",
    "for count in range(0,10,2):\n",
    "    print(\"count:\", count)\n",
    "\n",
    "for i in range(0,10):\n",
    "    if i<5:\n",
    "        print(\"loop \",i)\n",
    "    else:\n",
    "        continue\n",
    "    print(\"hehe....\")\n",
    "my_age=28\n",
    "count = 0\n",
    "while count<3:\n",
    "    user_input=int(input(\"input your guess num:\"))\n",
    "\n",
    "    if user_input==my_age:\n",
    "        print(\"Congratulations,you got it!\")\n",
    "        break\n",
    "    elif user_input<my_age:\n",
    "        print(\"Oops,think bigger!\")\n",
    "    else:\n",
    "        print(\"think smaller!\")\n",
    "    count+=1\n",
    "    print(\"猜这么多次都不对，你个笨蛋.\")"
   ]
  },
  {
   "cell_type": "markdown",
   "metadata": {},
   "source": [
    "## 12.练习---三级菜单"
   ]
  },
  {
   "cell_type": "code",
   "execution_count": null,
   "metadata": {
    "pycharm": {
     "is_executing": false
    }
   },
   "outputs": [],
   "source": [
    "data={\n",
    "    '北京':{\n",
    "        \"昌平\":{\n",
    "            \"沙河\":[\"oldboys\",'test'],\n",
    "            \"天通苑\":[\"链家地产\",\"我爱我家\"]\n",
    "        },\n",
    "        \"朝阳\":{\n",
    "            \"望京\":[\"oldboys\",'默陌陌'],\n",
    "            \"国贸\":[\"CICC\",\"HP\"],\n",
    "            \"东直门\":[\"Advent\",\"飞信\"]\n",
    "        },\n",
    "        \"海淀\":{}\n",
    "    },\n",
    "    '山东':{\n",
    "        \"德州\":{},\n",
    "        \"青岛\":{},\n",
    "        \"济南\":{}\n",
    "    },\n",
    "    '广东':{\n",
    "        \"德州\":{},\n",
    "        \"青岛\":{},\n",
    "        \"济南\":{}\n",
    "    },\n",
    "}\n",
    "exit_flag = False\n",
    "while not exit_flag:\n",
    "    for i in data:\n",
    "        print(i)\n",
    "    choice=input(\"选择进入1>>:\")\n",
    "    if choice in data:\n",
    "        while not exit_flag:\n",
    "            for i2 in data[choice]:\n",
    "                print(\"\\t\",i2)\n",
    "            choice2=input(\"选择进入2>>:\")\n",
    "            if choice2 in data[choice]:\n",
    "                while not exit_flag:\n",
    "                    for i3 in data[choice][choice2]:\n",
    "                        print(\"\\t\\t\", i3)\n",
    "                    choice3 = input(\"选择进入3>>:\")\n",
    "                    if choice3 in data[choice][choice2]:\n",
    "                        for i4 in data[choice][choice2][choice3]:\n",
    "                            print(i4)\n",
    "                        choice4=input(\"最后一层，按b返回>>:\")\n",
    "                        if choice4=='b':\n",
    "                            pass # pass可以理解为占位符，表示什么都不做，返回循环起始位置，以后可以在此处添加内容\n",
    "                        elif choice4=='q':\n",
    "                            exit_flag=True\n",
    "                    if (choice3 == 'b'):\n",
    "                        break\n",
    "                    elif choice3 == 'q':\n",
    "                        exit_flag = True\n",
    "            if (choice2 == 'b'):\n",
    "                break\n",
    "            elif choice2 == 'q':\n",
    "                exit_flag = True\n",
    "\n",
    "    if (choice == 'b'):\n",
    "        break"
   ]
  },
  {
   "cell_type": "code",
   "execution_count": null,
   "metadata": {
    "pycharm": {
     "is_executing": false
    }
   },
   "outputs": [],
   "source": []
  }
 ],
 "metadata": {
  "kernelspec": {
   "display_name": "Python 3",
   "language": "python",
   "name": "python3"
  },
  "language_info": {
   "codemirror_mode": {
    "name": "ipython",
    "version": 3
   },
   "file_extension": ".py",
   "mimetype": "text/x-python",
   "name": "python",
   "nbconvert_exporter": "python",
   "pygments_lexer": "ipython3",
   "version": "3.6.4"
  }
 },
 "nbformat": 4,
 "nbformat_minor": 2
}